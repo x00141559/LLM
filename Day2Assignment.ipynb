{
 "cells": [
  {
   "cell_type": "code",
   "execution_count": 1,
   "id": "9912b1e2-3bfc-465b-ab0a-77c91e0da832",
   "metadata": {},
   "outputs": [],
   "source": [
    "# Pull from open source"
   ]
  },
  {
   "cell_type": "code",
   "execution_count": 3,
   "id": "b1948d4a-a6e7-4f05-9a02-c02567cc8bfa",
   "metadata": {},
   "outputs": [],
   "source": [
    "# imports\n",
    "\n",
    "import requests\n",
    "from bs4 import BeautifulSoup\n",
    "from IPython.display import Markdown, display\n"
   ]
  },
  {
   "cell_type": "code",
   "execution_count": 4,
   "id": "bdc36ae7-34ec-4ac7-8ee4-fb99bc36bf09",
   "metadata": {},
   "outputs": [],
   "source": [
    "# Constants\n",
    "\n",
    "OLLAMA_API = \"http://localhost:11434/api/chat\"\n",
    "HEADERS = {\"Content-Type\": \"application/json\"}\n",
    "MODEL = \"llama3.2\""
   ]
  },
  {
   "cell_type": "code",
   "execution_count": 6,
   "id": "1579d0e5-1ce4-4a69-ade9-817791cea1f5",
   "metadata": {},
   "outputs": [],
   "source": [
    "# Create a messages list using the same format that we used for OpenAI\n",
    "\n",
    "messages = [\n",
    "    {\"role\": \"user\", \"content\": \"Describe some of the business applications of Generative AI\"}\n",
    "]"
   ]
  },
  {
   "cell_type": "code",
   "execution_count": 4,
   "id": "6c480fa8-316b-4624-b0eb-6c475fe1185f",
   "metadata": {},
   "outputs": [],
   "source": [
    "payload = {\n",
    "        \"model\": MODEL,\n",
    "        \"messages\": messages,\n",
    "        \"stream\": False\n",
    "    }"
   ]
  },
  {
   "cell_type": "code",
   "execution_count": 5,
   "id": "79f288e9-60fd-4325-b5c7-464ef7fb2fdb",
   "metadata": {},
   "outputs": [
    {
     "name": "stdout",
     "output_type": "stream",
     "text": [
      "Generative AI, also known as generative models or GANs (Generative Adversarial Networks), has numerous business applications across various industries. Here are some examples:\n",
      "\n",
      "1. **Content Generation**: Generative AI can create high-quality content such as:\n",
      "\t* Blog posts and articles\n",
      "\t* Social media posts and ads\n",
      "\t* Product descriptions and product pages\n",
      "\t* User-generated content (UGC) for marketing campaigns\n",
      "2. **Product Design and Prototyping**: Generative AI can design and prototype new products, reducing the need for physical prototypes and speeding up the product development process.\n",
      "3. **Marketing Automation**: Generative AI can automate marketing tasks such as:\n",
      "\t* Personalized email marketing campaigns\n",
      "\t* Social media content creation\n",
      "\t* Lead generation and qualification\n",
      "4. **Data Analysis and Insights**: Generative AI can analyze large datasets to identify patterns, trends, and insights that may not be apparent through traditional analysis methods.\n",
      "5. **Chatbots and Virtual Assistants**: Generative AI can create more sophisticated chatbots and virtual assistants that can understand context and provide personalized responses.\n",
      "6. **Image and Video Editing**: Generative AI can edit images and videos to create new content or modify existing ones, reducing the need for manual editing.\n",
      "7. **Music Composition and Sound Design**: Generative AI can compose music and sound effects for various applications such as video games, advertisements, and film scores.\n",
      "8. **Language Translation**: Generative AI can improve language translation accuracy and speed by generating high-quality translations from source languages to target languages.\n",
      "9. **Customer Service Chatbots**: Generative AI can create chatbots that can understand customer concerns and provide personalized solutions.\n",
      "10. **Predictive Maintenance**: Generative AI can analyze sensor data to predict equipment failures, reducing downtime and increasing efficiency in industries such as manufacturing and healthcare.\n",
      "\n",
      "Some notable companies already leveraging generative AI for business applications include:\n",
      "\n",
      "* Google: Using generative models to improve search results, image recognition, and language translation\n",
      "* Facebook: Leveraging generative models to create more personalized content and ads\n",
      "* Microsoft: Developing generative models for natural language processing and computer vision\n",
      "* Amazon: Using generative models to improve customer service chatbots and product recommendations\n",
      "\n",
      "These are just a few examples of the many business applications of generative AI. As the technology continues to evolve, we can expect to see even more innovative uses across various industries.\n"
     ]
    }
   ],
   "source": [
    "response = requests.post(OLLAMA_API, json=payload, headers=HEADERS)\n",
    "print(response.json()['message']['content'])"
   ]
  },
  {
   "cell_type": "code",
   "execution_count": 10,
   "id": "b6066a53-a4a3-4fed-991f-7cec89b37c07",
   "metadata": {},
   "outputs": [],
   "source": [
    "## quicker way to run olama"
   ]
  },
  {
   "cell_type": "code",
   "execution_count": 1,
   "id": "d2fb0618-04d6-4401-ade5-8dc533f66437",
   "metadata": {},
   "outputs": [],
   "source": [
    "import ollama"
   ]
  },
  {
   "cell_type": "code",
   "execution_count": 7,
   "id": "08c4d7d4-ea4a-41a8-aef7-7722f1052212",
   "metadata": {},
   "outputs": [],
   "source": [
    "response = ollama.chat(model=MODEL, messages = messages)"
   ]
  },
  {
   "cell_type": "code",
   "execution_count": 8,
   "id": "cf761abb-7057-49d4-8058-55f73ca2b1ea",
   "metadata": {},
   "outputs": [
    {
     "name": "stdout",
     "output_type": "stream",
     "text": [
      "Generative AI has numerous business applications across various industries. Some examples include:\n",
      "\n",
      "1. **Content Generation**: Generative AI can create high-quality content such as articles, social media posts, product descriptions, and more, saving time and resources for content creators.\n",
      "2. **Image and Video Creation**: Generative AI can generate images, videos, and 3D models that are indistinguishable from those created by humans. This is useful for industries like advertising, entertainment, and e-commerce.\n",
      "3. **Chatbots and Virtual Assistants**: Generative AI enables the creation of intelligent chatbots and virtual assistants that can understand natural language and provide personalized support to customers.\n",
      "4. **Product Design and Development**: Generative AI can be used to design new products, such as furniture, cars, or even buildings, by generating multiple designs based on user inputs and preferences.\n",
      "5. **Marketing Automation**: Generative AI can automate marketing processes like lead generation, email campaigns, and ad creation, freeing up time for marketers to focus on higher-level tasks.\n",
      "6. **Data Analysis and Visualization**: Generative AI can help analyze large datasets and create interactive visualizations that provide insights into trends, patterns, and correlations.\n",
      "7. **Speech Recognition and Synthesis**: Generative AI enables the creation of speech recognition systems that can accurately transcribe spoken words and generate synthetic voices for applications like voice assistants.\n",
      "8. **Music Composition and Generation**: Generative AI can compose music, generate beats, and even create new musical styles, which is useful for industries like music production and entertainment.\n",
      "9. **Language Translation**: Generative AI can be used to translate languages in real-time, enabling more efficient communication between people who speak different languages.\n",
      "10. **Predictive Maintenance**: Generative AI can analyze sensor data from machines and predict when maintenance is required, reducing downtime and increasing overall efficiency.\n",
      "\n",
      "Some specific business use cases include:\n",
      "\n",
      "* **E-commerce**: Generate product descriptions, images, and videos to enhance customer experience\n",
      "* **Advertising**: Create personalized ads using generative AI-powered content generation\n",
      "* **Healthcare**: Use generative AI for medical imaging analysis, disease diagnosis, and patient data analysis\n",
      "* **Finance**: Apply generative AI for risk assessment, credit scoring, and portfolio optimization\n",
      "* **Education**: Develop intelligent tutoring systems that adapt to individual students' needs\n",
      "\n",
      "These are just a few examples of the many business applications of Generative AI. As the technology continues to evolve, we can expect even more innovative use cases across various industries.\n"
     ]
    }
   ],
   "source": [
    "print(response['message']['content'])"
   ]
  },
  {
   "cell_type": "code",
   "execution_count": 9,
   "id": "94e04048-e675-40ad-8086-98429ab4f783",
   "metadata": {},
   "outputs": [],
   "source": [
    "# A class to represent a Webpage\n",
    "\n",
    "class Website:\n",
    "    \"\"\"\n",
    "    A utility class to represent a Website that we have scraped\n",
    "    \"\"\"\n",
    "    url: str\n",
    "    title: str\n",
    "    text: str\n",
    "\n",
    "    def __init__(self, url):\n",
    "        \"\"\"\n",
    "        Create this Website object from the given url using the BeautifulSoup library\n",
    "        \"\"\"\n",
    "        self.url = url\n",
    "        response = requests.get(url)\n",
    "        soup = BeautifulSoup(response.content, 'html.parser')\n",
    "        self.title = soup.title.string if soup.title else \"No title found\"\n",
    "        for irrelevant in soup.body([\"script\", \"style\", \"img\", \"input\"]):\n",
    "            irrelevant.decompose()\n",
    "        self.text = soup.body.get_text(separator=\"\\n\", strip=True)"
   ]
  },
  {
   "cell_type": "code",
   "execution_count": 10,
   "id": "b508f56b-ed7d-4fac-98e8-7e048d8fae20",
   "metadata": {},
   "outputs": [
    {
     "name": "stdout",
     "output_type": "stream",
     "text": [
      "Home - Edward Donner\n",
      "Home\n",
      "Outsmart\n",
      "An arena that pits LLMs against each other in a battle of diplomacy and deviousness\n",
      "About\n",
      "Posts\n",
      "Well, hi there.\n",
      "I’m Ed. I like writing code and experimenting with LLMs, and hopefully you’re here because you do too. I also enjoy DJing (but I’m badly out of practice), amateur electronic music production (\n",
      "very\n",
      "amateur) and losing myself in\n",
      "Hacker News\n",
      ", nodding my head sagely to things I only half understand.\n",
      "I’m the co-founder and CTO of\n",
      "Nebula.io\n",
      ". We’re applying AI to a field where it can make a massive, positive impact: helping people discover their potential and pursue their reason for being. Recruiters use our product today to source, understand, engage and manage talent. I’m previously the founder and CEO of AI startup untapt,\n",
      "acquired in 2021\n",
      ".\n",
      "We work with groundbreaking, proprietary LLMs verticalized for talent, we’ve\n",
      "patented\n",
      "our matching model, and our award-winning platform has happy customers and tons of press coverage.\n",
      "Connect\n",
      "with me for more!\n",
      "December 21, 2024\n",
      "Welcome, SuperDataScientists!\n",
      "November 13, 2024\n",
      "Mastering AI and LLM Engineering – Resources\n",
      "October 16, 2024\n",
      "From Software Engineer to AI Data Scientist – resources\n",
      "August 6, 2024\n",
      "Outsmart LLM Arena – a battle of diplomacy and deviousness\n",
      "Navigation\n",
      "Home\n",
      "Outsmart\n",
      "An arena that pits LLMs against each other in a battle of diplomacy and deviousness\n",
      "About\n",
      "Posts\n",
      "Get in touch\n",
      "ed [at] edwarddonner [dot] com\n",
      "www.edwarddonner.com\n",
      "Follow me\n",
      "LinkedIn\n",
      "Twitter\n",
      "Facebook\n",
      "Subscribe to newsletter\n",
      "Type your email…\n",
      "Subscribe\n"
     ]
    }
   ],
   "source": [
    "ed = Website(\"https://edwarddonner.com\")\n",
    "print(ed.title)\n",
    "print(ed.text)"
   ]
  },
  {
   "cell_type": "code",
   "execution_count": 13,
   "id": "2a920bee-0c37-4751-9acc-55467018d5dd",
   "metadata": {},
   "outputs": [],
   "source": [
    "def messages_for(website):\n",
    "    return [\n",
    "        {\"role\": \"system\", \"content\": system_prompt},\n",
    "        {\"role\": \"user\", \"content\": user_prompt_for(website)}\n",
    "    ]"
   ]
  },
  {
   "cell_type": "code",
   "execution_count": 15,
   "id": "dacb7d04-4a0b-4443-96c1-4459e6046463",
   "metadata": {},
   "outputs": [],
   "source": [
    "system_prompt = \"You are an assistant that analyzes the contents of a website \\\n",
    "and provides a short summary, ignoring text that might be navigation related. \\\n",
    "Respond in markdown.\""
   ]
  },
  {
   "cell_type": "code",
   "execution_count": 16,
   "id": "d430786d-1768-4698-9885-9558a8fd4e25",
   "metadata": {},
   "outputs": [],
   "source": [
    "def user_prompt_for(website):\n",
    "    user_prompt = f\"You are looking at a website titled {website.title}\"\n",
    "    user_prompt += \"The contents of this website is as follows; \\\n",
    "please provide a short summary of this website in markdown. \\\n",
    "If it includes news or announcements, then summarize these too.\\n\\n\"\n",
    "    user_prompt += website.text\n",
    "    return user_prompt"
   ]
  },
  {
   "cell_type": "code",
   "execution_count": 17,
   "id": "4f56b3ca-2af3-4e05-a0ec-e1c35e5d9aa7",
   "metadata": {},
   "outputs": [
    {
     "data": {
      "text/plain": [
       "[{'role': 'system',\n",
       "  'content': 'You are an assistant that analyzes the contents of a website and provides a short summary, ignoring text that might be navigation related. Respond in markdown.'},\n",
       " {'role': 'user',\n",
       "  'content': 'You are looking at a website titled Home - Edward DonnerThe contents of this website is as follows; please provide a short summary of this website in markdown. If it includes news or announcements, then summarize these too.\\n\\nHome\\nOutsmart\\nAn arena that pits LLMs against each other in a battle of diplomacy and deviousness\\nAbout\\nPosts\\nWell, hi there.\\nI’m Ed. I like writing code and experimenting with LLMs, and hopefully you’re here because you do too. I also enjoy DJing (but I’m badly out of practice), amateur electronic music production (\\nvery\\namateur) and losing myself in\\nHacker News\\n, nodding my head sagely to things I only half understand.\\nI’m the co-founder and CTO of\\nNebula.io\\n. We’re applying AI to a field where it can make a massive, positive impact: helping people discover their potential and pursue their reason for being. Recruiters use our product today to source, understand, engage and manage talent. I’m previously the founder and CEO of AI startup untapt,\\nacquired in 2021\\n.\\nWe work with groundbreaking, proprietary LLMs verticalized for talent, we’ve\\npatented\\nour matching model, and our award-winning platform has happy customers and tons of press coverage.\\nConnect\\nwith me for more!\\nDecember 21, 2024\\nWelcome, SuperDataScientists!\\nNovember 13, 2024\\nMastering AI and LLM Engineering – Resources\\nOctober 16, 2024\\nFrom Software Engineer to AI Data Scientist – resources\\nAugust 6, 2024\\nOutsmart LLM Arena – a battle of diplomacy and deviousness\\nNavigation\\nHome\\nOutsmart\\nAn arena that pits LLMs against each other in a battle of diplomacy and deviousness\\nAbout\\nPosts\\nGet in touch\\ned [at] edwarddonner [dot] com\\nwww.edwarddonner.com\\nFollow me\\nLinkedIn\\nTwitter\\nFacebook\\nSubscribe to newsletter\\nType your email…\\nSubscribe'}]"
      ]
     },
     "execution_count": 17,
     "metadata": {},
     "output_type": "execute_result"
    }
   ],
   "source": [
    "messages_for(ed)"
   ]
  },
  {
   "cell_type": "code",
   "execution_count": 20,
   "id": "b274ae9d-d321-490d-9289-1d99c32c859d",
   "metadata": {},
   "outputs": [],
   "source": [
    "def summarize(url):\n",
    "    website = Website(url)\n",
    "    response = ollama.chat(\n",
    "        model = MODEL,\n",
    "        messages = messages_for(website)\n",
    "    )\n",
    "    return response.choices[0].message.content"
   ]
  },
  {
   "cell_type": "code",
   "execution_count": null,
   "id": "d4b739ed-f3b1-49d4-80a0-7be71ef9147b",
   "metadata": {},
   "outputs": [],
   "source": [
    "summarize(\"https://edwarddonner.com\")"
   ]
  },
  {
   "cell_type": "code",
   "execution_count": null,
   "id": "d1d7f6ce-ece2-4007-a6f3-a8e804dbd533",
   "metadata": {},
   "outputs": [],
   "source": []
  }
 ],
 "metadata": {
  "kernelspec": {
   "display_name": "Python 3 (ipykernel)",
   "language": "python",
   "name": "python3"
  },
  "language_info": {
   "codemirror_mode": {
    "name": "ipython",
    "version": 3
   },
   "file_extension": ".py",
   "mimetype": "text/x-python",
   "name": "python",
   "nbconvert_exporter": "python",
   "pygments_lexer": "ipython3",
   "version": "3.11.10"
  }
 },
 "nbformat": 4,
 "nbformat_minor": 5
}
